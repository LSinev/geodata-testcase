{
 "cells": [
  {
   "cell_type": "markdown",
   "metadata": {},
   "source": [
    "Задания:\n",
    "1. Найти и выделить область, откуда совершается наибольшее кол-во поездок.\n",
    "Область можно определять любой формы и размера. Визуализация на карте приветствуется (хитмап + выделенная область).\n",
    "2. Для области из пункта 1 построить модель по предсказанию кол-ва поездок из этой области на час вперед.\n",
    "Baseline - в качестве предсказания использовать предыдущее значение. Желательно побить baseline своей моделью.\n",
    "Метрику выбираете сами."
   ]
  },
  {
   "cell_type": "markdown",
   "metadata": {},
   "source": [
    "То есть TARGET можно составить, после выделения интересующей области, сгруппировав время в часовые интервалы и считая количество записей (там дальше уже разбить на трейн и тест)\n",
    "А Baseline модель просто берет предсказания с предыдущего часового интервала"
   ]
  },
  {
   "cell_type": "markdown",
   "metadata": {},
   "source": [
    "## Modules and configs"
   ]
  },
  {
   "cell_type": "code",
   "execution_count": 1,
   "metadata": {},
   "outputs": [],
   "source": [
    "import numpy as np\n",
    "import pandas as pd\n",
    "import gc\n",
    "import time\n",
    "import warnings\n",
    "%matplotlib inline\n",
    "from matplotlib import pyplot as plt\n",
    "plt.rcParams['figure.figsize'] = (10, 8)\n"
   ]
  },
  {
   "cell_type": "code",
   "execution_count": 2,
   "metadata": {},
   "outputs": [],
   "source": [
    "from sklearn.model_selection import train_test_split\n",
    "from sklearn.model_selection import TimeSeriesSplit\n",
    "from sklearn.metrics import mean_squared_error\n",
    "from lightgbm import LGBMRegressor\n",
    "from sklearn.linear_model import Ridge"
   ]
  },
  {
   "cell_type": "code",
   "execution_count": 3,
   "metadata": {},
   "outputs": [],
   "source": [
    "# для визуализации\n",
    "import gmaps\n",
    "import local_settings #API keys\n",
    "gmaps.configure(api_key=local_settings.GOOGLE_API_KEY)\n"
   ]
  },
  {
   "cell_type": "code",
   "execution_count": 4,
   "metadata": {},
   "outputs": [],
   "source": [
    "RANDOM_STATE = 42\n",
    "np.random.seed(RANDOM_STATE)"
   ]
  },
  {
   "cell_type": "markdown",
   "metadata": {},
   "source": [
    "## Load data"
   ]
  },
  {
   "cell_type": "code",
   "execution_count": 5,
   "metadata": {
    "scrolled": true
   },
   "outputs": [
    {
     "name": "stderr",
     "output_type": "stream",
     "text": [
      "C:\\Anaconda3\\lib\\site-packages\\numpy\\lib\\arraysetops.py:522: FutureWarning: elementwise comparison failed; returning scalar instead, but in the future will perform elementwise comparison\n",
      "  mask |= (ar1 == a)\n"
     ]
    },
    {
     "name": "stdout",
     "output_type": "stream",
     "text": [
      "Wall time: 1min 42s\n"
     ]
    }
   ],
   "source": [
    "%%time\n",
    "file_path = '../input/'\n",
    "data_types = {\n",
    "    'tpep_pickup_datetime': 'object',\n",
    "    'pickup_longitude': 'float32',\n",
    "    'pickup_latitude' : 'float32'\n",
    "}\n",
    "data_original = pd.read_csv(f'{file_path}yellow_tripdata_2015.csv', dtype=data_types,\n",
    "                            parse_dates = ['tpep_pickup_datetime'], infer_datetime_format=True, index_col=0)"
   ]
  },
  {
   "cell_type": "markdown",
   "metadata": {},
   "source": [
    "## Clean data"
   ]
  },
  {
   "cell_type": "code",
   "execution_count": 6,
   "metadata": {},
   "outputs": [
    {
     "name": "stdout",
     "output_type": "stream",
     "text": [
      "Wall time: 540 ms\n"
     ]
    }
   ],
   "source": [
    "%%time\n",
    "## Data cleaning\n",
    "# Latitudes must lie between -90 and 90\n",
    "# Longitudes are expressed as a float between -180 and +180\n",
    "data_original.loc[data_original['pickup_longitude']<-180,'pickup_longitude'] =\\\n",
    "    data_original.loc[data_original['pickup_longitude']<-180,'pickup_longitude']/10"
   ]
  },
  {
   "cell_type": "code",
   "execution_count": 7,
   "metadata": {},
   "outputs": [],
   "source": [
    "# drop points with longitude 0\n",
    "data = data_original.loc[data_original['pickup_longitude']!=0,:]"
   ]
  },
  {
   "cell_type": "code",
   "execution_count": 8,
   "metadata": {},
   "outputs": [
    {
     "data": {
      "text/plain": [
       "7"
      ]
     },
     "execution_count": 8,
     "metadata": {},
     "output_type": "execute_result"
    }
   ],
   "source": [
    "del data_original\n",
    "gc.collect()"
   ]
  },
  {
   "cell_type": "code",
   "execution_count": 9,
   "metadata": {},
   "outputs": [
    {
     "name": "stdout",
     "output_type": "stream",
     "text": [
      "<class 'pandas.core.frame.DataFrame'>\n",
      "Int64Index: 68033640 entries, 0 to 69006886\n",
      "Data columns (total 3 columns):\n",
      "tpep_pickup_datetime    datetime64[ns]\n",
      "pickup_longitude        float32\n",
      "pickup_latitude         float32\n",
      "dtypes: datetime64[ns](1), float32(2)\n",
      "memory usage: 1.5 GB\n"
     ]
    }
   ],
   "source": [
    "data.info()"
   ]
  },
  {
   "cell_type": "markdown",
   "metadata": {},
   "source": [
    "## Preprocess data"
   ]
  },
  {
   "cell_type": "code",
   "execution_count": 10,
   "metadata": {},
   "outputs": [
    {
     "name": "stdout",
     "output_type": "stream",
     "text": [
      "Wall time: 24.7 s\n"
     ]
    }
   ],
   "source": [
    "%%time\n",
    "data['month'] = data.tpep_pickup_datetime.dt.month.astype(np.uint8)\n",
    "data['weekday'] = data.tpep_pickup_datetime.dt.weekday.astype(np.uint8)\n",
    "data['week'] = data.tpep_pickup_datetime.dt.week.astype(np.uint8)\n",
    "data['day'] = data.tpep_pickup_datetime.dt.day.astype(np.uint8)\n",
    "data['hour'] = data.tpep_pickup_datetime.dt.hour.astype(np.uint8)"
   ]
  },
  {
   "cell_type": "markdown",
   "metadata": {},
   "source": [
    "## Select zone to visualize and predict"
   ]
  },
  {
   "cell_type": "code",
   "execution_count": 11,
   "metadata": {},
   "outputs": [
    {
     "name": "stdout",
     "output_type": "stream",
     "text": [
      "Wall time: 1min\n"
     ]
    }
   ],
   "source": [
    "%%time\n",
    "data['total_count'] = data.groupby(['pickup_latitude', 'pickup_longitude'])['tpep_pickup_datetime'].\\\n",
    "                                                                    transform('count').astype(np.uint32)\n",
    "\n"
   ]
  },
  {
   "cell_type": "code",
   "execution_count": 12,
   "metadata": {},
   "outputs": [
    {
     "data": {
      "text/html": [
       "<div>\n",
       "<style scoped>\n",
       "    .dataframe tbody tr th:only-of-type {\n",
       "        vertical-align: middle;\n",
       "    }\n",
       "\n",
       "    .dataframe tbody tr th {\n",
       "        vertical-align: top;\n",
       "    }\n",
       "\n",
       "    .dataframe thead th {\n",
       "        text-align: right;\n",
       "    }\n",
       "</style>\n",
       "<table border=\"1\" class=\"dataframe\">\n",
       "  <thead>\n",
       "    <tr style=\"text-align: right;\">\n",
       "      <th></th>\n",
       "      <th>tpep_pickup_datetime</th>\n",
       "      <th>pickup_longitude</th>\n",
       "      <th>pickup_latitude</th>\n",
       "      <th>month</th>\n",
       "      <th>weekday</th>\n",
       "      <th>week</th>\n",
       "      <th>day</th>\n",
       "      <th>hour</th>\n",
       "      <th>total_count</th>\n",
       "    </tr>\n",
       "  </thead>\n",
       "  <tbody>\n",
       "    <tr>\n",
       "      <th>0</th>\n",
       "      <td>2015-07-01</td>\n",
       "      <td>-73.994156</td>\n",
       "      <td>40.751125</td>\n",
       "      <td>7</td>\n",
       "      <td>2</td>\n",
       "      <td>27</td>\n",
       "      <td>1</td>\n",
       "      <td>0</td>\n",
       "      <td>106</td>\n",
       "    </tr>\n",
       "    <tr>\n",
       "      <th>1</th>\n",
       "      <td>2015-07-01</td>\n",
       "      <td>-73.984657</td>\n",
       "      <td>40.768486</td>\n",
       "      <td>7</td>\n",
       "      <td>2</td>\n",
       "      <td>27</td>\n",
       "      <td>1</td>\n",
       "      <td>0</td>\n",
       "      <td>3</td>\n",
       "    </tr>\n",
       "    <tr>\n",
       "      <th>2</th>\n",
       "      <td>2015-07-01</td>\n",
       "      <td>-73.978889</td>\n",
       "      <td>40.762287</td>\n",
       "      <td>7</td>\n",
       "      <td>2</td>\n",
       "      <td>27</td>\n",
       "      <td>1</td>\n",
       "      <td>0</td>\n",
       "      <td>8</td>\n",
       "    </tr>\n",
       "    <tr>\n",
       "      <th>3</th>\n",
       "      <td>2015-07-01</td>\n",
       "      <td>-73.992790</td>\n",
       "      <td>40.742760</td>\n",
       "      <td>7</td>\n",
       "      <td>2</td>\n",
       "      <td>27</td>\n",
       "      <td>1</td>\n",
       "      <td>0</td>\n",
       "      <td>10</td>\n",
       "    </tr>\n",
       "    <tr>\n",
       "      <th>4</th>\n",
       "      <td>2015-07-01</td>\n",
       "      <td>-73.912430</td>\n",
       "      <td>40.769810</td>\n",
       "      <td>7</td>\n",
       "      <td>2</td>\n",
       "      <td>27</td>\n",
       "      <td>1</td>\n",
       "      <td>0</td>\n",
       "      <td>1</td>\n",
       "    </tr>\n",
       "  </tbody>\n",
       "</table>\n",
       "</div>"
      ],
      "text/plain": [
       "  tpep_pickup_datetime  pickup_longitude  pickup_latitude  month  weekday  \\\n",
       "0           2015-07-01        -73.994156        40.751125      7        2   \n",
       "1           2015-07-01        -73.984657        40.768486      7        2   \n",
       "2           2015-07-01        -73.978889        40.762287      7        2   \n",
       "3           2015-07-01        -73.992790        40.742760      7        2   \n",
       "4           2015-07-01        -73.912430        40.769810      7        2   \n",
       "\n",
       "   week  day  hour  total_count  \n",
       "0    27    1     0          106  \n",
       "1    27    1     0            3  \n",
       "2    27    1     0            8  \n",
       "3    27    1     0           10  \n",
       "4    27    1     0            1  "
      ]
     },
     "execution_count": 12,
     "metadata": {},
     "output_type": "execute_result"
    }
   ],
   "source": [
    "data.head()"
   ]
  },
  {
   "cell_type": "code",
   "execution_count": 13,
   "metadata": {},
   "outputs": [
    {
     "data": {
      "text/plain": [
       "<matplotlib.axes._subplots.AxesSubplot at 0x17d58a555f8>"
      ]
     },
     "execution_count": 13,
     "metadata": {},
     "output_type": "execute_result"
    },
    {
     "data": {
      "image/png": "[encoded data removed]",
      "text/plain": [
       "<Figure size 432x288 with 1 Axes>"
      ]
     },
     "metadata": {
      "needs_background": "light"
     },
     "output_type": "display_data"
    }
   ],
   "source": [
    "data[data.total_count >= 50].total_count.hist(bins=500)"
   ]
  },
  {
   "cell_type": "code",
   "execution_count": 14,
   "metadata": {},
   "outputs": [
    {
     "name": "stdout",
     "output_type": "stream",
     "text": [
      "(1388801, 9)\n",
      "   tpep_pickup_datetime  pickup_longitude  pickup_latitude  month  weekday  \\\n",
      "0   2015-07-01 00:00:00        -73.994156        40.751125      7        2   \n",
      "12  2015-07-01 00:00:02        -73.862762        40.769035      7        2   \n",
      "16  2015-07-01 00:00:02        -73.871002        40.773750      7        2   \n",
      "24  2015-07-01 00:00:06        -73.873039        40.774101      7        2   \n",
      "71  2015-07-01 00:00:15        -73.873032        40.774082      7        2   \n",
      "\n",
      "    week  day  hour  total_count  \n",
      "0     27    1     0          106  \n",
      "12    27    1     0           95  \n",
      "16    27    1     0          133  \n",
      "24    27    1     0          185  \n",
      "71    27    1     0          110  \n",
      "Wall time: 260 ms\n"
     ]
    }
   ],
   "source": [
    "%%time\n",
    "data_mod = data[data.total_count >= 50]\n",
    "print(data_mod.shape)\n",
    "print(data_mod.head())"
   ]
  },
  {
   "cell_type": "code",
   "execution_count": 15,
   "metadata": {},
   "outputs": [
    {
     "name": "stdout",
     "output_type": "stream",
     "text": [
      "<class 'pandas.core.frame.DataFrame'>\n",
      "Int64Index: 1388801 entries, 0 to 69006854\n",
      "Data columns (total 9 columns):\n",
      "tpep_pickup_datetime    1388801 non-null datetime64[ns]\n",
      "pickup_longitude        1388801 non-null float32\n",
      "pickup_latitude         1388801 non-null float32\n",
      "month                   1388801 non-null uint8\n",
      "weekday                 1388801 non-null uint8\n",
      "week                    1388801 non-null uint8\n",
      "day                     1388801 non-null uint8\n",
      "hour                    1388801 non-null uint8\n",
      "total_count             1388801 non-null uint32\n",
      "dtypes: datetime64[ns](1), float32(2), uint32(1), uint8(5)\n",
      "memory usage: 43.7 MB\n"
     ]
    }
   ],
   "source": [
    "data_mod.info()"
   ]
  },
  {
   "cell_type": "markdown",
   "metadata": {},
   "source": [
    "Исследовать будем те координаты, в которых за время наблюдений в датасете было более пятидесяти приездов такси (два аэропорта, вокзал и вблизи музея на Манхэттене)."
   ]
  },
  {
   "cell_type": "markdown",
   "metadata": {},
   "source": [
    "## Visualization"
   ]
  },
  {
   "cell_type": "code",
   "execution_count": 16,
   "metadata": {},
   "outputs": [
    {
     "data": {
      "text/plain": [
       "15191"
      ]
     },
     "execution_count": 16,
     "metadata": {},
     "output_type": "execute_result"
    }
   ],
   "source": [
    "locations = data_mod[['pickup_latitude', 'pickup_longitude']].drop_duplicates().reset_index(drop=True)\n",
    "len(locations)"
   ]
  },
  {
   "cell_type": "code",
   "execution_count": 17,
   "metadata": {},
   "outputs": [
    {
     "data": {
      "text/plain": [
       "15191"
      ]
     },
     "execution_count": 17,
     "metadata": {},
     "output_type": "execute_result"
    }
   ],
   "source": [
    "locations = list(set(zip(list(locations['pickup_latitude']), list(locations['pickup_longitude']))))\n",
    "len(locations)"
   ]
  },
  {
   "cell_type": "code",
   "execution_count": 18,
   "metadata": {},
   "outputs": [
    {
     "data": {
      "application/vnd.jupyter.widget-view+json": {
       "model_id": "4a76eac9606740038c3708f505ab56a4",
       "version_major": 2,
       "version_minor": 0
      },
      "text/plain": [
       "Figure(layout=FigureLayout(height='420px'))"
      ]
     },
     "metadata": {},
     "output_type": "display_data"
    }
   ],
   "source": [
    "\n",
    "fig = gmaps.figure()\n",
    "fig.add_layer(gmaps.heatmap_layer(locations, max_intensity = 100, point_radius = 5))\n",
    "fig"
   ]
  },
  {
   "cell_type": "markdown",
   "metadata": {},
   "source": [
    "## Model making"
   ]
  },
  {
   "cell_type": "code",
   "execution_count": 19,
   "metadata": {},
   "outputs": [
    {
     "name": "stdout",
     "output_type": "stream",
     "text": [
      "Wall time: 285 ms\n"
     ]
    },
    {
     "name": "stderr",
     "output_type": "stream",
     "text": [
      "C:\\Anaconda3\\lib\\site-packages\\ipykernel_launcher.py:1: SettingWithCopyWarning: \n",
      "A value is trying to be set on a copy of a slice from a DataFrame.\n",
      "Try using .loc[row_indexer,col_indexer] = value instead\n",
      "\n",
      "See the caveats in the documentation: http://pandas.pydata.org/pandas-docs/stable/indexing.html#indexing-view-versus-copy\n",
      "  \"\"\"Entry point for launching an IPython kernel.\n"
     ]
    }
   ],
   "source": [
    "%%time\n",
    "data_mod['TARGET'] = data_mod.groupby(['month', 'day', 'hour'])['tpep_pickup_datetime'].\\\n",
    "                                                                    transform('count').astype(np.uint32)"
   ]
  },
  {
   "cell_type": "code",
   "execution_count": 20,
   "metadata": {},
   "outputs": [
    {
     "data": {
      "text/plain": [
       "(4416, 6)"
      ]
     },
     "execution_count": 20,
     "metadata": {},
     "output_type": "execute_result"
    }
   ],
   "source": [
    "dataset = data_mod[['weekday', 'week', 'month', 'day', 'hour', 'TARGET']].drop_duplicates().reset_index(drop=True)\n",
    "dataset.shape"
   ]
  },
  {
   "cell_type": "code",
   "execution_count": 21,
   "metadata": {},
   "outputs": [],
   "source": [
    "dataset['naive'] = dataset['TARGET'].shift().fillna(method='bfill').astype(np.uint32)"
   ]
  },
  {
   "cell_type": "code",
   "execution_count": 22,
   "metadata": {},
   "outputs": [
    {
     "data": {
      "text/html": [
       "<div>\n",
       "<style scoped>\n",
       "    .dataframe tbody tr th:only-of-type {\n",
       "        vertical-align: middle;\n",
       "    }\n",
       "\n",
       "    .dataframe tbody tr th {\n",
       "        vertical-align: top;\n",
       "    }\n",
       "\n",
       "    .dataframe thead th {\n",
       "        text-align: right;\n",
       "    }\n",
       "</style>\n",
       "<table border=\"1\" class=\"dataframe\">\n",
       "  <thead>\n",
       "    <tr style=\"text-align: right;\">\n",
       "      <th></th>\n",
       "      <th>weekday</th>\n",
       "      <th>week</th>\n",
       "      <th>month</th>\n",
       "      <th>day</th>\n",
       "      <th>hour</th>\n",
       "      <th>TARGET</th>\n",
       "      <th>naive</th>\n",
       "    </tr>\n",
       "  </thead>\n",
       "  <tbody>\n",
       "    <tr>\n",
       "      <th>0</th>\n",
       "      <td>2</td>\n",
       "      <td>27</td>\n",
       "      <td>7</td>\n",
       "      <td>1</td>\n",
       "      <td>0</td>\n",
       "      <td>318</td>\n",
       "      <td>318</td>\n",
       "    </tr>\n",
       "    <tr>\n",
       "      <th>1</th>\n",
       "      <td>2</td>\n",
       "      <td>27</td>\n",
       "      <td>7</td>\n",
       "      <td>1</td>\n",
       "      <td>1</td>\n",
       "      <td>54</td>\n",
       "      <td>318</td>\n",
       "    </tr>\n",
       "    <tr>\n",
       "      <th>2</th>\n",
       "      <td>2</td>\n",
       "      <td>27</td>\n",
       "      <td>7</td>\n",
       "      <td>1</td>\n",
       "      <td>2</td>\n",
       "      <td>24</td>\n",
       "      <td>54</td>\n",
       "    </tr>\n",
       "    <tr>\n",
       "      <th>3</th>\n",
       "      <td>2</td>\n",
       "      <td>27</td>\n",
       "      <td>7</td>\n",
       "      <td>1</td>\n",
       "      <td>3</td>\n",
       "      <td>19</td>\n",
       "      <td>24</td>\n",
       "    </tr>\n",
       "    <tr>\n",
       "      <th>4</th>\n",
       "      <td>2</td>\n",
       "      <td>27</td>\n",
       "      <td>7</td>\n",
       "      <td>1</td>\n",
       "      <td>4</td>\n",
       "      <td>11</td>\n",
       "      <td>19</td>\n",
       "    </tr>\n",
       "  </tbody>\n",
       "</table>\n",
       "</div>"
      ],
      "text/plain": [
       "   weekday  week  month  day  hour  TARGET  naive\n",
       "0        2    27      7    1     0     318    318\n",
       "1        2    27      7    1     1      54    318\n",
       "2        2    27      7    1     2      24     54\n",
       "3        2    27      7    1     3      19     24\n",
       "4        2    27      7    1     4      11     19"
      ]
     },
     "execution_count": 22,
     "metadata": {},
     "output_type": "execute_result"
    }
   ],
   "source": [
    "dataset.head()"
   ]
  },
  {
   "cell_type": "code",
   "execution_count": 23,
   "metadata": {},
   "outputs": [],
   "source": [
    "train_proportion = 0.8\n",
    "split_index_num = np.uint32(round(dataset.shape[0]*train_proportion, 0))"
   ]
  },
  {
   "cell_type": "code",
   "execution_count": 24,
   "metadata": {},
   "outputs": [],
   "source": [
    "X, y, test, y_test, y_naive, y_naive_train = (dataset[:split_index_num].drop(['TARGET', 'naive'], axis=1),\n",
    "                        dataset[:split_index_num]['TARGET'],\n",
    "                        dataset[split_index_num:].drop(['TARGET', 'naive'], axis=1),\n",
    "                        dataset[split_index_num:]['TARGET'],\n",
    "                        dataset[split_index_num:]['naive'],\n",
    "                        dataset[:split_index_num]['naive'])"
   ]
  },
  {
   "cell_type": "code",
   "execution_count": 25,
   "metadata": {},
   "outputs": [],
   "source": [
    "def cv_scores(X, y, test, y_naive_train, num_folds, params, verbose = -1,\n",
    "              early_stopping = 300,\n",
    "              train_full_model=False,\n",
    "              seed = 42):\n",
    "    warnings.simplefilter('ignore')\n",
    "    \n",
    "    valid_pred = np.zeros(X.shape[0])\n",
    "    \n",
    "    test_prediction = pd.DataFrame(index = test.index)\n",
    "    \n",
    "    \n",
    "    iterations = np.zeros(num_folds, dtype=np.uint16)\n",
    "    train_scores = np.zeros(num_folds, dtype=np.float32)\n",
    "    fold_scores = np.zeros(num_folds, dtype=np.float32)\n",
    "\n",
    "    \n",
    "    tscv = TimeSeriesSplit(n_splits=num_folds)\n",
    "    n_fold = 0\n",
    "    for train_index, valid_index in tscv.split(X):\n",
    "        X_train, X_valid = X.iloc[train_index], X.iloc[valid_index]\n",
    "        y_train, y_valid = y.iloc[train_index], y.iloc[valid_index]\n",
    "        print(n_fold, X_train.shape, X_valid.shape, y_train.shape, y_valid.shape)\n",
    "        \n",
    "        rgr = LGBMRegressor(importance_type = 'gain', random_state = seed, **params)\n",
    "        rgr.fit(X_train, y_train, \n",
    "                eval_set = [(X_train, y_train), (X_valid, y_valid)], eval_metric = 'rmse',\n",
    "                eval_names = [f'{n_fold}_train', f'{n_fold}_valid'],\n",
    "                verbose = verbose, early_stopping_rounds = early_stopping)\n",
    "        iterations[n_fold] = rgr.best_iteration_\n",
    "        valid_pred[[valid_index]] = rgr.predict(X_valid, num_iteration = rgr.best_iteration_)#[:, 1]\n",
    "        test_prediction[n_fold] = pd.Series(rgr.predict(test, num_iteration = rgr.best_iteration_), index = test.index)#[:, 1])\n",
    "        train_scores[n_fold] = rgr.evals_result_[f'{n_fold}_train']['rmse'][rgr.best_iteration_-1]\n",
    "        fold_scores[n_fold] = np.sqrt(mean_squared_error(y_valid, valid_pred[[valid_index]]))\n",
    "        \n",
    "        \n",
    "        print('Fold %2d train rmse: %.6f, valid rmse: %.6f; naive rmse on valid: %.6f; best iteration %5d;' % (n_fold,\n",
    "                  train_scores[n_fold],\n",
    "                  fold_scores[n_fold],\n",
    "                  np.sqrt(mean_squared_error(y_valid, y_naive_train.iloc[valid_index])), \n",
    "                  iterations[n_fold]))\n",
    "\n",
    "        n_fold += 1\n",
    "        \n",
    "            \n",
    "    if train_full_model:\n",
    "        print(f'Full train learning for {iterations[num_folds-1]+20} iterations',\n",
    "              'started at', time.ctime())\n",
    "        params['n_estimators'] = iterations[num_folds-1]+20\n",
    "        rgr_full = LGBMRegressor(importance_type = 'gain', random_state = seed, **params)\n",
    "        rgr_full.fit(X, y, verbose = verbose)\n",
    "        test_prediction[n_fold] = pd.Series(rgr_full.predict(test), index = test.index)\n",
    "\n",
    "    \n",
    "    return fold_scores, test_prediction\n"
   ]
  },
  {
   "cell_type": "code",
   "execution_count": 26,
   "metadata": {},
   "outputs": [
    {
     "name": "stdout",
     "output_type": "stream",
     "text": [
      "0 (593, 5) (588, 5) (593,) (588,)\n",
      "Training until validation scores don't improve for 300 rounds.\n",
      "[100]\t0_train's rmse: 61.6637\t0_valid's rmse: 83.4622\n",
      "[200]\t0_train's rmse: 48.2404\t0_valid's rmse: 75.1474\n",
      "[300]\t0_train's rmse: 43.5784\t0_valid's rmse: 73.0274\n",
      "[400]\t0_train's rmse: 41.2128\t0_valid's rmse: 72.2978\n",
      "[500]\t0_train's rmse: 39.5254\t0_valid's rmse: 72.282\n",
      "[600]\t0_train's rmse: 38.1853\t0_valid's rmse: 71.9085\n",
      "[700]\t0_train's rmse: 37.1916\t0_valid's rmse: 71.8421\n",
      "[800]\t0_train's rmse: 36.4388\t0_valid's rmse: 71.8013\n",
      "[900]\t0_train's rmse: 35.7943\t0_valid's rmse: 71.7503\n",
      "[1000]\t0_train's rmse: 35.2497\t0_valid's rmse: 71.8616\n",
      "[1100]\t0_train's rmse: 34.6932\t0_valid's rmse: 71.9413\n",
      "Early stopping, best iteration is:\n",
      "[860]\t0_train's rmse: 36.0532\t0_valid's rmse: 71.7271\n",
      "Fold  0 train rmse: 36.053246, valid rmse: 71.727135; naive rmse on valid: 107.173765; best iteration   860;\n",
      "1 (1181, 5) (588, 5) (1181,) (588,)\n",
      "Training until validation scores don't improve for 300 rounds.\n",
      "[100]\t1_train's rmse: 55.2751\t1_valid's rmse: 73.8436\n",
      "[200]\t1_train's rmse: 44.1927\t1_valid's rmse: 71.5527\n",
      "[300]\t1_train's rmse: 39.9502\t1_valid's rmse: 72.4614\n",
      "[400]\t1_train's rmse: 37.4609\t1_valid's rmse: 72.8499\n",
      "[500]\t1_train's rmse: 35.7989\t1_valid's rmse: 73.4467\n",
      "Early stopping, best iteration is:\n",
      "[214]\t1_train's rmse: 43.4731\t1_valid's rmse: 71.4559\n",
      "Fold  1 train rmse: 43.473122, valid rmse: 71.455856; naive rmse on valid: 104.996939; best iteration   214;\n",
      "2 (1769, 5) (588, 5) (1769,) (588,)\n",
      "Training until validation scores don't improve for 300 rounds.\n",
      "[100]\t2_train's rmse: 55.4572\t2_valid's rmse: 74.2521\n",
      "[200]\t2_train's rmse: 45.458\t2_valid's rmse: 72.2648\n",
      "[300]\t2_train's rmse: 41.1906\t2_valid's rmse: 71.9416\n",
      "[400]\t2_train's rmse: 38.2298\t2_valid's rmse: 70.7616\n",
      "[500]\t2_train's rmse: 36.141\t2_valid's rmse: 70.9324\n",
      "[600]\t2_train's rmse: 34.7075\t2_valid's rmse: 71.1804\n",
      "[700]\t2_train's rmse: 33.3966\t2_valid's rmse: 71.5398\n",
      "Early stopping, best iteration is:\n",
      "[458]\t2_train's rmse: 36.9638\t2_valid's rmse: 70.5906\n",
      "Fold  2 train rmse: 36.963829, valid rmse: 70.590599; naive rmse on valid: 115.343358; best iteration   458;\n",
      "3 (2357, 5) (588, 5) (2357,) (588,)\n",
      "Training until validation scores don't improve for 300 rounds.\n",
      "[100]\t3_train's rmse: 54.2918\t3_valid's rmse: 73.0913\n",
      "[200]\t3_train's rmse: 44.3334\t3_valid's rmse: 69.1794\n",
      "[300]\t3_train's rmse: 39.6779\t3_valid's rmse: 68.5428\n",
      "[400]\t3_train's rmse: 36.9865\t3_valid's rmse: 67.9021\n",
      "[500]\t3_train's rmse: 34.9354\t3_valid's rmse: 67.6269\n",
      "[600]\t3_train's rmse: 33.4151\t3_valid's rmse: 67.5426\n",
      "[700]\t3_train's rmse: 32.1465\t3_valid's rmse: 67.5033\n",
      "[800]\t3_train's rmse: 31.0678\t3_valid's rmse: 67.8021\n",
      "[900]\t3_train's rmse: 30.1224\t3_valid's rmse: 67.6038\n",
      "Early stopping, best iteration is:\n",
      "[675]\t3_train's rmse: 32.4695\t3_valid's rmse: 67.4178\n",
      "Fold  3 train rmse: 32.469528, valid rmse: 67.417793; naive rmse on valid: 121.515347; best iteration   675;\n",
      "4 (2945, 5) (588, 5) (2945,) (588,)\n",
      "Training until validation scores don't improve for 300 rounds.\n",
      "[100]\t4_train's rmse: 53.7012\t4_valid's rmse: 72.8319\n",
      "[200]\t4_train's rmse: 44.7194\t4_valid's rmse: 74.3691\n",
      "[300]\t4_train's rmse: 40.2399\t4_valid's rmse: 75.6945\n",
      "[400]\t4_train's rmse: 37.5909\t4_valid's rmse: 75.6533\n",
      "Early stopping, best iteration is:\n",
      "[104]\t4_train's rmse: 53.1485\t4_valid's rmse: 72.7098\n",
      "Fold  4 train rmse: 53.148544, valid rmse: 72.709816; naive rmse on valid: 118.307221; best iteration   104;\n",
      "Full train learning for 124 iterations started at Thu Nov 15 01:50:04 2018\n"
     ]
    }
   ],
   "source": [
    "lgbm_params = {\n",
    "            'objective': 'regression',\n",
    "            'boosting_type': 'gbdt',\n",
    "            'nthread': 4,\n",
    "            'n_estimators': 10000,#10000\n",
    "            'learning_rate': .05,\n",
    "            'num_leaves': 600,#30\n",
    "            'max_depth': -1,\n",
    "            'reg_lambda': 100,\n",
    "            'silent': -1,\n",
    "            'seed': RANDOM_STATE,\n",
    "            'verbose': -1\n",
    "}\n",
    "\n",
    "scores, test_pred = cv_scores(X, y, test, y_naive_train, 5,\n",
    "              lgbm_params, verbose = 100,\n",
    "              early_stopping = 300,\n",
    "              train_full_model=True,\n",
    "              seed = 42)"
   ]
  },
  {
   "cell_type": "markdown",
   "metadata": {},
   "source": [
    "## Results"
   ]
  },
  {
   "cell_type": "markdown",
   "metadata": {},
   "source": [
    "### Baseline model RMSE metric"
   ]
  },
  {
   "cell_type": "code",
   "execution_count": 27,
   "metadata": {
    "scrolled": true
   },
   "outputs": [
    {
     "name": "stdout",
     "output_type": "stream",
     "text": [
      "120.17915561807553\n"
     ]
    }
   ],
   "source": [
    "rmse_naive = np.sqrt(mean_squared_error(y_test, y_naive))\n",
    "print(rmse_naive)"
   ]
  },
  {
   "cell_type": "markdown",
   "metadata": {},
   "source": [
    "### Trained (without validation fold) lightgbm model  RMSE  metric"
   ]
  },
  {
   "cell_type": "code",
   "execution_count": 28,
   "metadata": {},
   "outputs": [
    {
     "data": {
      "text/plain": [
       "109.37214122612241"
      ]
     },
     "execution_count": 28,
     "metadata": {},
     "output_type": "execute_result"
    }
   ],
   "source": [
    "np.sqrt(mean_squared_error(y_test, test_pred[4]))"
   ]
  },
  {
   "cell_type": "markdown",
   "metadata": {},
   "source": [
    "### Fully trained lightgbm model  RMSE metric"
   ]
  },
  {
   "cell_type": "code",
   "execution_count": 29,
   "metadata": {},
   "outputs": [
    {
     "data": {
      "text/plain": [
       "97.92452981287609"
      ]
     },
     "execution_count": 29,
     "metadata": {},
     "output_type": "execute_result"
    }
   ],
   "source": [
    "np.sqrt(mean_squared_error(y_test, test_pred[5]))"
   ]
  },
  {
   "cell_type": "code",
   "execution_count": null,
   "metadata": {},
   "outputs": [],
   "source": []
  },
  {
   "cell_type": "code",
   "execution_count": null,
   "metadata": {},
   "outputs": [],
   "source": []
  },
  {
   "cell_type": "code",
   "execution_count": null,
   "metadata": {},
   "outputs": [],
   "source": []
  },
  {
   "cell_type": "code",
   "execution_count": null,
   "metadata": {},
   "outputs": [],
   "source": []
  },
  {
   "cell_type": "code",
   "execution_count": null,
   "metadata": {},
   "outputs": [],
   "source": []
  },
  {
   "cell_type": "code",
   "execution_count": null,
   "metadata": {},
   "outputs": [],
   "source": []
  },
  {
   "cell_type": "code",
   "execution_count": null,
   "metadata": {},
   "outputs": [],
   "source": []
  }
 ],
 "metadata": {
  "celltoolbar": "Raw Cell Format",
  "kernelspec": {
   "display_name": "Python 3",
   "language": "python",
   "name": "python3"
  },
  "language_info": {
   "codemirror_mode": {
    "name": "ipython",
    "version": 3
   },
   "file_extension": ".py",
   "mimetype": "text/x-python",
   "name": "python",
   "nbconvert_exporter": "python",
   "pygments_lexer": "ipython3",
   "version": "3.6.6"
  }
 },
 "nbformat": 4,
 "nbformat_minor": 2
}
